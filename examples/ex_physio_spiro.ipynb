{
 "cells": [
  {
   "cell_type": "markdown",
   "metadata": {
    "collapsed": true
   },
   "source": [
    "# Minimal example for working with spirometer data"
   ]
  },
  {
   "cell_type": "markdown",
   "metadata": {},
   "source": [
    "Import the worklab module:"
   ]
  },
  {
   "cell_type": "code",
   "execution_count": 6,
   "metadata": {},
   "outputs": [],
   "source": [
    "import os\n",
    "import worklab as wl"
   ]
  },
  {
   "cell_type": "markdown",
   "metadata": {},
   "source": [
    "Import the data with `com.load()`:"
   ]
  },
  {
   "cell_type": "code",
   "execution_count": 7,
   "metadata": {},
   "outputs": [
    {
     "name": "stdout",
     "output_type": "stream",
     "text": [
      "\n",
      "================================================================================\n",
      "Initializing loading for C:\\Users\\rick_\\Development\\worklab2\\example_data\\COSMED_example.xlsx ...\n",
      "File identified as COSMED datafile. Attempting to load ...\n",
      "Data loaded!\n",
      "================================================================================\n",
      "\n",
      "Spirometer data is stored in a:  <class 'pandas.core.frame.DataFrame'>\n"
     ]
    }
   ],
   "source": [
    "filename = os.getcwd()\n",
    "filename = os.path.join(os.path.split(filename)[0], 'example_data', 'COSMED_example.xlsx')\n",
    "spiro_data = wl.com.load(filename)\n",
    "print(\"Spirometer data is stored in a: \", type(spiro_data))"
   ]
  },
  {
   "cell_type": "markdown",
   "metadata": {},
   "source": [
    "or use `wl.com.load_spiro()` which is functionally identical."
   ]
  },
  {
   "cell_type": "markdown",
   "metadata": {},
   "source": [
    "You can inspect the data with pandas functions:"
   ]
  },
  {
   "cell_type": "code",
   "execution_count": 8,
   "metadata": {},
   "outputs": [
    {
     "data": {
      "text/html": [
       "<div>\n",
       "<style scoped>\n",
       "    .dataframe tbody tr th:only-of-type {\n",
       "        vertical-align: middle;\n",
       "    }\n",
       "\n",
       "    .dataframe tbody tr th {\n",
       "        vertical-align: top;\n",
       "    }\n",
       "\n",
       "    .dataframe thead th {\n",
       "        text-align: right;\n",
       "    }\n",
       "</style>\n",
       "<table border=\"1\" class=\"dataframe\">\n",
       "  <thead>\n",
       "    <tr style=\"text-align: right;\">\n",
       "      <th></th>\n",
       "      <th>time</th>\n",
       "      <th>Rf</th>\n",
       "      <th>HR</th>\n",
       "      <th>power</th>\n",
       "      <th>VO2</th>\n",
       "      <th>VCO2</th>\n",
       "      <th>weights</th>\n",
       "    </tr>\n",
       "  </thead>\n",
       "  <tbody>\n",
       "    <tr>\n",
       "      <th>0</th>\n",
       "      <td>7</td>\n",
       "      <td>11.952191</td>\n",
       "      <td>62</td>\n",
       "      <td>101.842014</td>\n",
       "      <td>298.455484</td>\n",
       "      <td>268.382657</td>\n",
       "      <td>0</td>\n",
       "    </tr>\n",
       "    <tr>\n",
       "      <th>1</th>\n",
       "      <td>11</td>\n",
       "      <td>9.933775</td>\n",
       "      <td>62</td>\n",
       "      <td>111.407404</td>\n",
       "      <td>330.369515</td>\n",
       "      <td>281.724639</td>\n",
       "      <td>4</td>\n",
       "    </tr>\n",
       "    <tr>\n",
       "      <th>2</th>\n",
       "      <td>15</td>\n",
       "      <td>11.757790</td>\n",
       "      <td>63</td>\n",
       "      <td>128.974406</td>\n",
       "      <td>383.662547</td>\n",
       "      <td>322.481225</td>\n",
       "      <td>4</td>\n",
       "    </tr>\n",
       "    <tr>\n",
       "      <th>3</th>\n",
       "      <td>18</td>\n",
       "      <td>13.218771</td>\n",
       "      <td>64</td>\n",
       "      <td>141.802001</td>\n",
       "      <td>423.538135</td>\n",
       "      <td>349.306235</td>\n",
       "      <td>3</td>\n",
       "    </tr>\n",
       "    <tr>\n",
       "      <th>4</th>\n",
       "      <td>20</td>\n",
       "      <td>14.430014</td>\n",
       "      <td>64</td>\n",
       "      <td>146.172614</td>\n",
       "      <td>436.703091</td>\n",
       "      <td>359.734206</td>\n",
       "      <td>2</td>\n",
       "    </tr>\n",
       "  </tbody>\n",
       "</table>\n",
       "</div>"
      ],
      "text/plain": [
       "   time         Rf  HR       power         VO2        VCO2  weights\n",
       "0     7  11.952191  62  101.842014  298.455484  268.382657        0\n",
       "1    11   9.933775  62  111.407404  330.369515  281.724639        4\n",
       "2    15  11.757790  63  128.974406  383.662547  322.481225        4\n",
       "3    18  13.218771  64  141.802001  423.538135  349.306235        3\n",
       "4    20  14.430014  64  146.172614  436.703091  359.734206        2"
      ]
     },
     "execution_count": 8,
     "metadata": {},
     "output_type": "execute_result"
    }
   ],
   "source": [
    "spiro_data.head()"
   ]
  },
  {
   "cell_type": "code",
   "execution_count": 9,
   "metadata": {
    "scrolled": true
   },
   "outputs": [
    {
     "data": {
      "text/html": [
       "<div>\n",
       "<style scoped>\n",
       "    .dataframe tbody tr th:only-of-type {\n",
       "        vertical-align: middle;\n",
       "    }\n",
       "\n",
       "    .dataframe tbody tr th {\n",
       "        vertical-align: top;\n",
       "    }\n",
       "\n",
       "    .dataframe thead th {\n",
       "        text-align: right;\n",
       "    }\n",
       "</style>\n",
       "<table border=\"1\" class=\"dataframe\">\n",
       "  <thead>\n",
       "    <tr style=\"text-align: right;\">\n",
       "      <th></th>\n",
       "      <th>time</th>\n",
       "      <th>Rf</th>\n",
       "      <th>HR</th>\n",
       "      <th>power</th>\n",
       "      <th>VO2</th>\n",
       "      <th>VCO2</th>\n",
       "      <th>weights</th>\n",
       "    </tr>\n",
       "  </thead>\n",
       "  <tbody>\n",
       "    <tr>\n",
       "      <th>328</th>\n",
       "      <td>951</td>\n",
       "      <td>23.809524</td>\n",
       "      <td>94</td>\n",
       "      <td>338.510226</td>\n",
       "      <td>995.434028</td>\n",
       "      <td>881.662962</td>\n",
       "      <td>2</td>\n",
       "    </tr>\n",
       "    <tr>\n",
       "      <th>329</th>\n",
       "      <td>954</td>\n",
       "      <td>23.237800</td>\n",
       "      <td>93</td>\n",
       "      <td>338.135288</td>\n",
       "      <td>994.712143</td>\n",
       "      <td>879.522871</td>\n",
       "      <td>3</td>\n",
       "    </tr>\n",
       "    <tr>\n",
       "      <th>330</th>\n",
       "      <td>956</td>\n",
       "      <td>22.883295</td>\n",
       "      <td>93</td>\n",
       "      <td>348.853419</td>\n",
       "      <td>1029.271752</td>\n",
       "      <td>898.141951</td>\n",
       "      <td>2</td>\n",
       "    </tr>\n",
       "    <tr>\n",
       "      <th>331</th>\n",
       "      <td>959</td>\n",
       "      <td>23.382697</td>\n",
       "      <td>93</td>\n",
       "      <td>351.913720</td>\n",
       "      <td>1037.692355</td>\n",
       "      <td>907.881222</td>\n",
       "      <td>3</td>\n",
       "    </tr>\n",
       "    <tr>\n",
       "      <th>332</th>\n",
       "      <td>961</td>\n",
       "      <td>23.566379</td>\n",
       "      <td>92</td>\n",
       "      <td>353.994886</td>\n",
       "      <td>1043.260882</td>\n",
       "      <td>914.987154</td>\n",
       "      <td>2</td>\n",
       "    </tr>\n",
       "  </tbody>\n",
       "</table>\n",
       "</div>"
      ],
      "text/plain": [
       "     time         Rf  HR       power          VO2        VCO2  weights\n",
       "328   951  23.809524  94  338.510226   995.434028  881.662962        2\n",
       "329   954  23.237800  93  338.135288   994.712143  879.522871        3\n",
       "330   956  22.883295  93  348.853419  1029.271752  898.141951        2\n",
       "331   959  23.382697  93  351.913720  1037.692355  907.881222        3\n",
       "332   961  23.566379  92  353.994886  1043.260882  914.987154        2"
      ]
     },
     "execution_count": 9,
     "metadata": {},
     "output_type": "execute_result"
    }
   ],
   "source": [
    "spiro_data.tail()"
   ]
  },
  {
   "cell_type": "markdown",
   "metadata": {},
   "source": [
    "Or plot with Pandas built-in functions or matplotlib:"
   ]
  },
  {
   "cell_type": "code",
   "execution_count": 10,
   "metadata": {
    "scrolled": true
   },
   "outputs": [
    {
     "data": {
      "image/png": "[encoded data removed]",
      "text/plain": [
       "<Figure size 432x288 with 1 Axes>"
      ]
     },
     "metadata": {
      "needs_background": "light"
     },
     "output_type": "display_data"
    }
   ],
   "source": [
    "spiro_data.plot(\"time\", \"HR\");"
   ]
  },
  {
   "cell_type": "markdown",
   "metadata": {},
   "source": [
    "That's basically all there is to it. Handling spirometer data is not very exciting 😃"
   ]
  }
 ],
 "metadata": {
  "hide_input": false,
  "kernelspec": {
   "display_name": "Python 3",
   "language": "python",
   "name": "python3"
  },
  "language_info": {
   "codemirror_mode": {
    "name": "ipython",
    "version": 3
   },
   "file_extension": ".py",
   "mimetype": "text/x-python",
   "name": "python",
   "nbconvert_exporter": "python",
   "pygments_lexer": "ipython3",
   "version": "3.7.3"
  },
  "toc": {
   "base_numbering": 1,
   "nav_menu": {},
   "number_sections": true,
   "sideBar": true,
   "skip_h1_title": true,
   "title_cell": "Table of Contents",
   "title_sidebar": "Contents",
   "toc_cell": false,
   "toc_position": {},
   "toc_section_display": true,
   "toc_window_display": false
  }
 },
 "nbformat": 4,
 "nbformat_minor": 1
}
