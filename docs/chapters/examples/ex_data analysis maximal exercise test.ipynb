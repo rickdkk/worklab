{
 "cells": [
  {
   "cell_type": "markdown",
   "id": "09d4559f",
   "metadata": {},
   "source": [
    "# Analysis of a maximal exercise test"
   ]
  },
  {
   "cell_type": "markdown",
   "id": "d663e960",
   "metadata": {},
   "source": [
    "<b>Protocol ergometer:</b>\n",
    "resistance mode with one minute resistance steps and a constant comfortable velocity (as target velocity) with velocity target, individual resistance calculated from the wingate test\n",
    "\n",
    "<b>Description of the sprint test: </b>\n",
    "Participants are asked to maintain the target velocity as long as possible. Test is terminated if they can not maintain the velocity\n",
    "\n",
    "<b>Outcome: </b>\n",
    "Power and physiological output parameters for the maximal exercise capacity, aerobic threshold and anaerobic threshold"
   ]
  },
  {
   "cell_type": "markdown",
   "id": "a7040336",
   "metadata": {},
   "source": [
    "First, let us import the right package(s)"
   ]
  },
  {
   "cell_type": "code",
   "execution_count": 7,
   "id": "e4d9195c",
   "metadata": {},
   "outputs": [],
   "source": [
    "import worklab as wl\n",
    "import os\n",
    "\n",
    "filename = os.getcwd()\n",
    "filename_ergo = os.path.join('r',filename, 'example_data', 'Max ergo_example.xls')\n",
    "filename_spiro = os.path.join('r',filename, 'example_data', 'Max spiro_example.xlsx')"
   ]
  },
  {
   "cell_type": "markdown",
   "id": "9d621cd5",
   "metadata": {},
   "source": [
    "Let's define some user-specific variables (you can alternatively store these in a seperate file)"
   ]
  },
  {
   "cell_type": "code",
   "execution_count": 8,
   "id": "0ba14422",
   "metadata": {},
   "outputs": [],
   "source": [
    "muser = 65   # kg, mass user\n",
    "start_ergo = 180  # s, start maximal exercise test ergometer\n",
    "start_spiro = 240  # s, start maximal exercise test spirometer\n",
    "duration = 600  # s, duration maximal exercise test"
   ]
  },
  {
   "cell_type": "markdown",
   "id": "10c74b0e",
   "metadata": {},
   "source": [
    "Import and process data ergometer:"
   ]
  },
  {
   "cell_type": "code",
   "execution_count": 9,
   "id": "470419d8",
   "metadata": {},
   "outputs": [],
   "source": [
    "wheelchair = wl.com.load_wheelchair(filename_ergo)\n",
    "data = wl.com.load_esseda(filename_ergo)\n",
    "data = wl.kin.filter_ergo(data)\n",
    "data = wl.kin.process_ergo(data, wheelsize=wheelchair['wheelsize'], rimsize=wheelchair['rimsize'])\n",
    "data = wl.ana.mean_data(data)\n",
    "data = wl.ana.cut_data(data, start_ergo, start_ergo+duration)\n",
    "for side in data:\n",
    "        data[side]['speed'] = data[side]['speed'] * 3.6"
   ]
  },
  {
   "cell_type": "markdown",
   "id": "f3010d26",
   "metadata": {},
   "source": [
    "The ergometer data is ready and we have to process the spirometer data. In this case, we used the COSMED K5. There is also a function for the METAMAX 3B, other devices we do not support (yet) but you can make the code yourself ofcourse!"
   ]
  },
  {
   "cell_type": "code",
   "execution_count": 10,
   "id": "46170949",
   "metadata": {},
   "outputs": [],
   "source": [
    "data_spiro = wl.com.load_spiro(filename_spiro)"
   ]
  },
  {
   "cell_type": "markdown",
   "id": "b3f2606a",
   "metadata": {},
   "source": [
    "Now we have imported both data sources and it is time to combine them!"
   ]
  },
  {
   "cell_type": "code",
   "execution_count": 11,
   "id": "8d6db1fe",
   "metadata": {},
   "outputs": [
    {
     "name": "stdout",
     "output_type": "stream",
     "text": [
      "      POpeak   VO2peak  HRmax    RERmax       VEmax\n",
      "0  82.611107  2.658131    184  1.199528  116.416267\n"
     ]
    }
   ],
   "source": [
    "fig_max, maxtest = wl.ana.maximal1min(data, duration)\n",
    "\n",
    "power = wl.utils.power_per_min(data, duration, start_spiro)\n",
    "fig_wasserman, gxt_results = wl.physio.wasserman(data_spiro, power)\n",
    "print(gxt_results)"
   ]
  },
  {
   "cell_type": "markdown",
   "id": "e9e195e9",
   "metadata": {},
   "source": [
    "Our package also gives you a tool to define the aerobic and anaerobic thresholds:"
   ]
  },
  {
   "cell_type": "code",
   "execution_count": 12,
   "id": "a29bb7bd",
   "metadata": {},
   "outputs": [
    {
     "name": "stdout",
     "output_type": "stream",
     "text": [
      "VT1-time: 144 s\n",
      "VT1-power: 35.13 W\n",
      "VT1-HR: 127 bpm\n",
      "VT1-VO2: 1.009 l/min\n",
      "VT2-time: 472 s\n",
      "VT2-power: 71.88 W\n",
      "VT2-HR: 175 bpm\n",
      "VT2-VO2: 2.065 l/min\n"
     ]
    }
   ],
   "source": [
    "%matplotlib qt\n",
    "fig_vt1, vt1 = wl.physio.aerobic_threshold(data_spiro, power, start_spiro, muser)\n",
    "\n",
    "fig_vt2, vt2 = wl.physio.anaerobic_threshold(data_spiro, power, start_spiro, muser)\n",
    "\n",
    "thresholds = vt1.join(vt2)"
   ]
  }
 ],
 "metadata": {
  "kernelspec": {
   "display_name": "Python 3",
   "language": "python",
   "name": "python3"
  },
  "language_info": {
   "codemirror_mode": {
    "name": "ipython",
    "version": 3
   },
   "file_extension": ".py",
   "mimetype": "text/x-python",
   "name": "python",
   "nbconvert_exporter": "python",
   "pygments_lexer": "ipython3",
   "version": "3.7.6"
  }
 },
 "nbformat": 4,
 "nbformat_minor": 5
}
