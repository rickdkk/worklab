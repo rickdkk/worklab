{
 "cells": [
  {
   "cell_type": "markdown",
   "metadata": {
    "collapsed": true
   },
   "source": [
    "# Minimal example for working with NGIMU data"
   ]
  },
  {
   "cell_type": "markdown",
   "metadata": {},
   "source": [
    "Import the worklab module"
   ]
  },
  {
   "cell_type": "code",
   "execution_count": 1,
   "metadata": {},
   "outputs": [],
   "source": [
    "import os\n",
    "import worklab as wl"
   ]
  },
  {
   "cell_type": "markdown",
   "metadata": {},
   "source": [
    "Import the data with `com.load()`:"
   ]
  },
  {
   "cell_type": "code",
   "execution_count": 2,
   "metadata": {},
   "outputs": [
    {
     "name": "stdout",
     "output_type": "stream",
     "text": [
      "NGIMU data is stored in a:  <class 'dict'>\n"
     ]
    }
   ],
   "source": [
    "filename = os.getcwd()\n",
    "filename = os.path.join(os.path.split(filename)[0], 'examples', 'example_data', 'imu_example_data')\n",
    "imu_data = wl.com.load_imu(filename, filenames=[\"sensors\"])\n",
    "print(\"NGIMU data is stored in a: \", type(imu_data))"
   ]
  },
  {
   "cell_type": "markdown",
   "metadata": {},
   "source": [
    "The structure is as follows: you have a dictionary with all devices, that contains a dictionary with all sensors. Sensordata is stored in Pandas DataFrames:"
   ]
  },
  {
   "cell_type": "code",
   "execution_count": 3,
   "metadata": {
    "pycharm": {
     "name": "#%%\n"
    }
   },
   "outputs": [
    {
     "name": "stdout",
     "output_type": "stream",
     "text": [
      "Imu_data contains:  dict_keys(['right', 'left', 'frame'])\n",
      "Frame contains:  dict_keys(['sensors'])\n",
      "sensors contains:  Index(['time', 'gyroscope_x', 'gyroscope_y', 'gyroscope_z', 'accelerometer_x',\n",
      "       'accelerometer_y', 'accelerometer_z', 'magnetometer_x',\n",
      "       'magnetometer_y', 'magnetometer_z', 'barometer'],\n",
      "      dtype='object')\n"
     ]
    }
   ],
   "source": [
    "print(\"Imu_data contains: \", imu_data.keys())  # dict\n",
    "print(\"Frame contains: \", imu_data[\"frame\"].keys())  # dict\n",
    "print(\"sensors contains: \", imu_data[\"frame\"][\"sensors\"].columns)  # DataFrame"
   ]
  },
  {
   "cell_type": "markdown",
   "metadata": {
    "pycharm": {
     "name": "#%% md\n"
    }
   },
   "source": [
    "You can resample the IMUs to a fixed frequency with `imu.resample_imu()` which takes a session data object and a sample frequency:"
   ]
  },
  {
   "cell_type": "code",
   "execution_count": 4,
   "metadata": {
    "pycharm": {
     "name": "#%%\n"
    }
   },
   "outputs": [
    {
     "name": "stdout",
     "output_type": "stream",
     "text": [
      "Freq before resampling:  397.0700650101465\n",
      "Freq after resampling:  400.0\n"
     ]
    }
   ],
   "source": [
    "print(\"Freq before resampling: \", 1 / imu_data[\"frame\"][\"sensors\"][\"time\"].diff().mean())\n",
    "imu_data = wl.imu.resample_imu(imu_data, sfreq=400)\n",
    "print(\"Freq after resampling: \", 1 / imu_data[\"frame\"][\"sensors\"][\"time\"].diff().mean())"
   ]
  },
  {
   "cell_type": "markdown",
   "metadata": {
    "pycharm": {
     "name": "#%% md\n"
    }
   },
   "source": [
    "If you have the IMUs attached to a wheelchair you can use `imu.process_imu()` to get wheelchair performance related variables (the function needs some wheelchair specific information):"
   ]
  },
  {
   "cell_type": "code",
   "execution_count": 5,
   "metadata": {
    "pycharm": {
     "name": "#%%\n"
    }
   },
   "outputs": [],
   "source": [
    "imu_data = wl.imu.process_imu(imu_data)"
   ]
  },
  {
   "cell_type": "markdown",
   "metadata": {
    "pycharm": {
     "name": "#%% md\n"
    }
   },
   "source": [
    "If you use the data structure for wheelchair related variables the different sensor keys get dropped and just the relevant DataFrames are kept.\n",
    "You can visualize the data using Pandas built-in plot function or with matplotlib:"
   ]
  },
  {
   "cell_type": "code",
   "execution_count": 6,
   "metadata": {
    "pycharm": {
     "name": "#%%\n"
    }
   },
   "outputs": [
    {
     "data": {
      "image/png": "[encoded data removed]",
      "text/plain": [
       "<Figure size 432x288 with 1 Axes>"
      ]
     },
     "metadata": {
      "needs_background": "light"
     },
     "output_type": "display_data"
    }
   ],
   "source": [
    "imu_data[\"frame\"].plot(\"time\", \"vel\");"
   ]
  },
  {
   "cell_type": "markdown",
   "metadata": {},
   "source": [
    "There you go! You can consider some filtering now and extracting the variables you need."
   ]
  }
 ],
 "metadata": {
  "hide_input": false,
  "kernelspec": {
   "display_name": "Python 3",
   "language": "python",
   "name": "python3"
  },
  "language_info": {
   "codemirror_mode": {
    "name": "ipython",
    "version": 3
   },
   "file_extension": ".py",
   "mimetype": "text/x-python",
   "name": "python",
   "nbconvert_exporter": "python",
   "pygments_lexer": "ipython3",
   "version": "3.7.6"
  },
  "pycharm": {
   "stem_cell": {
    "cell_type": "raw",
    "metadata": {
     "collapsed": false
    },
    "source": []
   }
  },
  "toc": {
   "base_numbering": 1,
   "nav_menu": {},
   "number_sections": true,
   "sideBar": true,
   "skip_h1_title": true,
   "title_cell": "Table of Contents",
   "title_sidebar": "Contents",
   "toc_cell": false,
   "toc_position": {},
   "toc_section_display": true,
   "toc_window_display": false
  }
 },
 "nbformat": 4,
 "nbformat_minor": 1
}
